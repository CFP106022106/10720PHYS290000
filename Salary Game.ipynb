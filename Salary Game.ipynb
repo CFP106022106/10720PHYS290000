{
 "cells": [
  {
   "cell_type": "code",
   "execution_count": 22,
   "metadata": {},
   "outputs": [
    {
     "name": "stdout",
     "output_type": "stream",
     "text": [
      "學生數量:\n"
     ]
    },
    {
     "name": "stdin",
     "output_type": "stream",
     "text": [
      " 500\n"
     ]
    },
    {
     "name": "stdout",
     "output_type": "stream",
     "text": [
      "初始金額:\n"
     ]
    },
    {
     "name": "stdin",
     "output_type": "stream",
     "text": [
      " 1000\n"
     ]
    },
    {
     "name": "stdout",
     "output_type": "stream",
     "text": [
      "輸了扣多少:\n"
     ]
    },
    {
     "name": "stdin",
     "output_type": "stream",
     "text": [
      " 30\n"
     ]
    },
    {
     "name": "stdout",
     "output_type": "stream",
     "text": [
      "可否負債:\n"
     ]
    },
    {
     "name": "stdin",
     "output_type": "stream",
     "text": [
      " y\n"
     ]
    },
    {
     "name": "stdout",
     "output_type": "stream",
     "text": [
      "猜拳次數:\n"
     ]
    },
    {
     "name": "stdin",
     "output_type": "stream",
     "text": [
      " 500000\n"
     ]
    },
    {
     "name": "stdout",
     "output_type": "stream",
     "text": [
      "[490, 1270, -1220, 220, 2950, -830, 1240, 2110, -80, 910, -350, -20, 940, 910, 2440, 940, 940, 1630, 610, 2530, 1960, -50, 1660, 1690, 4090, 880, 1570, 2080, -1370, 1300, 3760, -830, 310, 2980, 1420, 1870, 1780, 970, 310, 820, 1600, 1450, 490, 3100, -1790, 1060, 280, 2140, 730, 1240, 2620, 850, 280, 2380, 1840, -560, 1900, -800, 1090, -140, 2770, -1640, 1870, 70, 670, 2020, -260, 3580, 1360, -890, 1000, 1270, 1510, 1750, 3250, 1840, 1300, 1210, -470, -50, 280, 1270, 1990, 1180, 2830, 880, 1510, 1840, 1450, 1720, 2380, 10, 1180, 1000, -1250, -950, 2440, 1030, -440, 2620, 460, 2050, 2590, 1960, 1690, 430, -650, -170, 1120, 820, 1030, 2770, -260, 1150, 1210, 700, 400, -380, 520, -830, -140, 1120, 100, 1540, 1450, 2380, 1270, 3670, -1250, 1990, 760, 1360, -500, 1660, 1270, 1900, 400, -830, 1720, 2230, 1750, 1210, 700, 1390, -200, 2200, 1150, 700, 2200, 1660, 2710, 1510, 2230, 640, 1780, 520, 1930, 3040, 370, 1360, 3550, 2890, 250, -740, -800, -530, 910, -500, -350, 1180, 1030, 760, 220, -140, 1570, 220, 670, 1600, 1270, -380, 2440, -500, -50, -470, 1960, 1750, 3940, 670, 880, -380, -350, 2200, 1180, -230, 1990, 1330, 1270, 1600, 2290, 1270, 2500, 460, 1510, 1120, 1390, 640, 880, 1750, 2980, 850, 1210, 670, 1090, 1300, -320, -110, 520, 130, 2020, -140, 2350, -410, 1360, 2530, -50, -1310, 610, 1180, 1030, 2470, 640, -650, 190, 1900, -1640, 1630, 3820, 40, 2560, 2230, 880, 1600, 1300, 550, 1210, 340, -260, 1360, 1900, 1450, -110, -410, 670, -1130, 2620, -1250, -980, -500, 2740, 490, 2080, 70, 370, 1900, 2440, 1510, 850, 820, 3490, 2230, 1300, 790, 850, 700, 1210, 2980, -260, 3070, 2500, 1330, -980, 460, 1270, 1090, 2830, 1690, 1090, -80, 1960, 550, 1030, -1340, -170, 1240, -800, 2050, 160, 100, -770, 280, 370, -560, 2290, 1510, 2080, 670, 160, -740, 310, 1180, 1480, -230, 2680, -170, 3370, -290, 370, 2710, 1960, 1060, 880, -500, 970, -440, 2260, 1120, 1780, 1930, 340, 1390, 1660, 2080, 610, 2140, 2170, 1000, 490, 1600, 790, 1480, 2320, -1070, 1540, 1990, 1090, 1600, 790, 2980, 1270, 760, -1610, 2140, 1600, 190, 2740, 1150, 1060, 2920, 820, 1480, 760, 130, -380, 1360, 3040, 1750, 3310, 490, 2830, 2200, 2890, 220, -1790, 1300, 2680, -590, 730, 3130, 1540, -50, 1210, 1810, -530, 1180, 2260, 670, 880, 130, -500, 700, 730, 1390, 940, 100, 910, 730, 1030, 1150, 1150, 970, -680, 430, 1810, 550, 1390, 280, 1390, 730, 2950, 2140, 100, 1840, 880, 730, -530, 70, -80, -170, 2020, 40, 580, 730, 1780, 400, 370, 520, -200, 220, 370, 130, -2090, 2230, 40, 1630, 1330, 700, 460, 1150, 340, -20, 1210, 10, 520, 520, 670, 850, 1180, -140, 1000, 3040, -770, 40, -1310, 1420, 1300, 2830, 2230, 940, 1600, 850, 1300, 2470, 1330, 190, 2860, 1570, 1090, 1540, -290, 1960, 1360, 1750, 1780, 1090, 1540, 580, 550, 1540, 340, 850, -470, 550, -230, 70, -200, 1810, 700, -1640, 730, 1150, 1510, 760, -320, 2080, -740, 910, 1510, 1570, 220, -140]\n"
     ]
    },
    {
     "data": {
      "image/png": "[encoded data removed]",
      "text/plain": [
       "<Figure size 432x288 with 1 Axes>"
      ]
     },
     "metadata": {
      "needs_background": "light"
     },
     "output_type": "display_data"
    }
   ],
   "source": [
    "import random\n",
    "import matplotlib.pyplot as plt\n",
    "import numpy as np\n",
    "\n",
    "print('學生數量:')\n",
    "student = int(input())  #學生數\n",
    "print('初始金額:')\n",
    "money   = int(input())  #初始$\n",
    "print('輸了扣多少:')\n",
    "lost_money = int(input()) #輸了扣多少錢\n",
    "print('可否負債:')\n",
    "way     = input() # n不可負債 y可負債\n",
    "print('猜拳次數:')\n",
    "times   = int(input()) #猜拳幾次\n",
    "\n",
    "student_money = list() #學生&錢的表\n",
    "student_money = [money] * student #初始化錢\n",
    "if way == 'n': #不可負債\n",
    "    while times != 0:\n",
    "        times -=1\n",
    "        rs = random.sample(range(0,student),2)   #隨機挑兩位學生\n",
    "        winner = random.randint(0,3)             #哪位獲勝 \n",
    "        \n",
    "        if winner == 2:\n",
    "            continue\n",
    "        \n",
    "        if student_money[rs[0]] == 0 or student_money[rs[1]] == 0:\n",
    "            times += 1\n",
    "            continue\n",
    "        if winner == 0:\n",
    "            if student_money[rs[1]] >= lost_money:\n",
    "                student_money[rs[0]] = student_money[rs[0]] + lost_money \n",
    "                student_money[rs[1]] = student_money[rs[1]] - lost_money\n",
    "            else:\n",
    "                student_money[rs[0]] = student_money[rs[0]] + student_money[rs[1]] \n",
    "                student_money[rs[1]] = 0\n",
    "        if winner == 1:\n",
    "            if student_money[rs[0]] >= lost_money:\n",
    "                student_money[rs[1]] = student_money[rs[1]] + lost_money \n",
    "                student_money[rs[0]] = student_money[rs[0]] - lost_money\n",
    "            else:\n",
    "                student_money[rs[1]] = student_money[rs[1]] + student_money[rs[0]] \n",
    "                student_money[rs[1]] = 0        \n",
    "if way == 'y': #可負債\n",
    "    while times != 0:\n",
    "        times = times - 1\n",
    "        rs = random.sample(range(0,student),2)   #隨機挑兩位學生\n",
    "        winner = random.randint(0,2)             #哪位獲勝     \n",
    "        if winner == 0:\n",
    "            student_money[rs[0]] = student_money[rs[0]] + lost_money \n",
    "            student_money[rs[1]] = student_money[rs[1]] - lost_money\n",
    "        if winner == 1:\n",
    "            student_money[rs[1]] = student_money[rs[1]] + lost_money \n",
    "            student_money[rs[0]] = student_money[rs[0]] - lost_money\n",
    "                \n",
    "print(student_money)   \n",
    "bins = np.arange(min(student_money)-lost_money,max(student_money)+lost_money,lost_money)\n",
    "plt.hist(student_money)\n",
    "plt.show()"
   ]
  },
  {
   "cell_type": "code",
   "execution_count": null,
   "metadata": {},
   "outputs": [],
   "source": []
  },
  {
   "cell_type": "code",
   "execution_count": null,
   "metadata": {},
   "outputs": [],
   "source": []
  },
  {
   "cell_type": "code",
   "execution_count": null,
   "metadata": {},
   "outputs": [],
   "source": []
  }
 ],
 "metadata": {
  "kernelspec": {
   "display_name": "Python 3",
   "language": "python",
   "name": "python3"
  },
  "language_info": {
   "codemirror_mode": {
    "name": "ipython",
    "version": 3
   },
   "file_extension": ".py",
   "mimetype": "text/x-python",
   "name": "python",
   "nbconvert_exporter": "python",
   "pygments_lexer": "ipython3",
   "version": "3.7.1"
  }
 },
 "nbformat": 4,
 "nbformat_minor": 2
}
