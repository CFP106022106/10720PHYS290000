{
 "cells": [
  {
   "cell_type": "code",
   "execution_count": 3,
   "metadata": {},
   "outputs": [
    {
     "name": "stdout",
     "output_type": "stream",
     "text": [
      "385.3091654923541 -1.3869344875257976\n"
     ]
    },
    {
     "data": {
      "image/png": "[encoded data removed]",
      "text/plain": [
       "<Figure size 432x288 with 1 Axes>"
      ]
     },
     "metadata": {
      "needs_background": "light"
     },
     "output_type": "display_data"
    }
   ],
   "source": [
    "fp=open('Alice.txt','r',encoding='UTF-8')\n",
    "line=fp.readline()\n",
    "count=dict()\n",
    "while line:\n",
    "   \n",
    "    line=fp.readline()\n",
    "    s=line.split()\n",
    "    for word in s:\n",
    "        if word in count:\n",
    "            count[word] += 1\n",
    "        else:\n",
    "            count[word] = 1\n",
    "\n",
    "import matplotlib.pyplot as plt\n",
    "import numpy as np\n",
    "num=[]\n",
    "for key in count:\n",
    "    num.append(count[key])\n",
    "\n",
    "num.sort()\n",
    "num.reverse()\n",
    "lognum=np.log(num)\n",
    "a=plt.hist(lognum,bins=20)\n",
    "\n",
    "\n",
    "dx=(a[1][1]-a[1][0])\n",
    "bin_center=np.array(a[1][0:-1])+dx/2\n",
    "\n",
    "\n",
    "from scipy import optimize\n",
    "def test_func(x,amp,alpha):\n",
    "    return amp*x**alpha\n",
    "\n",
    "params,params_covariance=optimize.curve_fit(test_func,bin_center,a[0])\n",
    "plt.plot(bin_center,test_func(bin_center,params[0],params[1]),'r*',label='Fitted Function')\n",
    "print(params[0],params[1])\n",
    "plt.show()"
   ]
  },
  {
   "cell_type": "code",
   "execution_count": null,
   "metadata": {},
   "outputs": [],
   "source": []
  }
 ],
 "metadata": {
  "kernelspec": {
   "display_name": "Python 3",
   "language": "python",
   "name": "python3"
  },
  "language_info": {
   "codemirror_mode": {
    "name": "ipython",
    "version": 3
   },
   "file_extension": ".py",
   "mimetype": "text/x-python",
   "name": "python",
   "nbconvert_exporter": "python",
   "pygments_lexer": "ipython3",
   "version": "3.7.1"
  }
 },
 "nbformat": 4,
 "nbformat_minor": 2
}
